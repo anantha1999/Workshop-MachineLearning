{
 "cells": [
  {
   "cell_type": "code",
   "execution_count": 6,
   "metadata": {
    "_cell_guid": "b1076dfc-b9ad-4769-8c92-a6c4dae69d19",
    "_uuid": "8f2839f25d086af736a60e9eeb907d3b93b6e0e5"
   },
   "outputs": [],
   "source": [
    "\n",
    "import numpy as np # linear algebra\n",
    "import pandas as pd # data processing, CSV file I/O (e.g. pd.read_csv)\n",
    "import seaborn as sns\n",
    "from pandas import Series,DataFrame\n",
    "import matplotlib.pyplot as plt\n",
    "\n"
   ]
  },
  {
   "cell_type": "code",
   "execution_count": 9,
   "metadata": {},
   "outputs": [
    {
     "name": "stdout",
     "output_type": "stream",
     "text": [
      "Index(['S.No', 'actual', 'pred', 'alive', 'plod', 'name', 'title', 'male',\n",
      "       'culture', 'dateOfBirth', 'DateoFdeath', 'mother', 'father', 'heir',\n",
      "       'house', 'spouse', 'book1', 'book2', 'book3', 'book4', 'book5',\n",
      "       'isAliveMother', 'isAliveFather', 'isAliveHeir', 'isAliveSpouse',\n",
      "       'isMarried', 'isNoble', 'age', 'numDeadRelations', 'boolDeadRelations',\n",
      "       'isPopular', 'popularity', 'isAlive'],\n",
      "      dtype='object')\n"
     ]
    }
   ],
   "source": [
    "data = pd.read_csv(\"character-predictions.csv\")\n",
    "print(data.columns)"
   ]
  },
  {
   "cell_type": "code",
   "execution_count": 4,
   "metadata": {
    "_cell_guid": "79c7e3d0-c299-4dcb-8224-4455121ee9b0",
    "_uuid": "d629ff2d2480ee46fbb7e2d37f6b5fab8052498a"
   },
   "outputs": [
    {
     "name": "stdout",
     "output_type": "stream",
     "text": [
      "0       Viserys II Targaryen\n",
      "1                Walder Frey\n",
      "2               Addison Hill\n",
      "3                Aemma Arryn\n",
      "4             Sylva Santagar\n",
      "5           Tommen Baratheon\n",
      "6           Valarr Targaryen\n",
      "7        Viserys I Targaryen\n",
      "8                    Wilbert\n",
      "9             Wilbert Osgrey\n",
      "10                      Will\n",
      "11             Will (orphan)\n",
      "12             Will (squire)\n",
      "13          Will (Standfast)\n",
      "14               Will (Treb)\n",
      "15               Will Humble\n",
      "16                    Willam\n",
      "17              Willem Wylde\n",
      "18                  Willifer\n",
      "19                    Willit\n",
      "20               Willis Wode\n",
      "21               Willis Fell\n",
      "22             Willow Heddle\n",
      "23                    Willum\n",
      "24                    Wolmer\n",
      "25          Willow Witch-eye\n",
      "26                      Woth\n",
      "27                     Wulfe\n",
      "28          Wyl the Whittler\n",
      "29               Wyl (guard)\n",
      "                ...         \n",
      "1916        Tygett Lannister\n",
      "1917            Sarella Sand\n",
      "1918       Rhaegar Targaryen\n",
      "1919                   Drogo\n",
      "1920                  Dunsen\n",
      "1921                   Barra\n",
      "1922          Bethany Bolton\n",
      "1923           Desmond Grell\n",
      "1924          Devan Seaworth\n",
      "1925                  Gendry\n",
      "1926        Gran Goodbrother\n",
      "1927            Loras Tyrell\n",
      "1928                 Ricasso\n",
      "1929         Stalwart Shield\n",
      "1930              Yohn Royce\n",
      "1931                  Yandry\n",
      "1932                   Tarle\n",
      "1933                   Temmo\n",
      "1934          Rohanne Webber\n",
      "1935     Gormond Goodbrother\n",
      "1936           Walder Rivers\n",
      "1937     Symon Silver Tongue\n",
      "1938                 Moqorro\n",
      "1939                     Meg\n",
      "1940          Laena Velaryon\n",
      "1941                   Luwin\n",
      "1942                    Reek\n",
      "1943        Symeon Star-Eyes\n",
      "1944               Coldhands\n",
      "1945         Tytos Lannister\n",
      "Name: name, Length: 1946, dtype: object\n",
      "LogisticRegression Accuracy:  0.7816032887975334\n"
     ]
    }
   ],
   "source": [
    "\n",
    "cult = {\n",
    "    'Summer Islands': ['summer islands', 'summer islander', 'summer isles'],\n",
    "    'Ghiscari': ['ghiscari', 'ghiscaricari',  'ghis'],\n",
    "    'Asshai': [\"asshai'i\", 'asshai'],\n",
    "    'Lysene': ['lysene', 'lyseni'],\n",
    "    'Andal': ['andal', 'andals'],\n",
    "    'Braavosi': ['braavosi', 'braavos'],\n",
    "    'Dornish': ['dornishmen', 'dorne', 'dornish'],\n",
    "    'Myrish': ['myr', 'myrish', 'myrmen'],\n",
    "    'Westermen': ['westermen', 'westerman', 'westerlands'],\n",
    "    'Westerosi': ['westeros', 'westerosi'],\n",
    "    'Stormlander': ['stormlands', 'stormlander'],\n",
    "    'Norvoshi': ['norvos', 'norvoshi'],\n",
    "    'Northmen': ['the north', 'northmen'],\n",
    "    'Free Folk': ['wildling', 'first men', 'free folk'],\n",
    "    'Qartheen': ['qartheen', 'qarth'],\n",
    "    'Reach': ['the reach', 'reach', 'reachmen'],\n",
    "}\n",
    "\n",
    "def get_cult(value):\n",
    "    value = value.lower()\n",
    "    v = [k for (k, v) in cult.items() if value in v]\n",
    "    return v[0] if len(v) > 0 else value.title()\n",
    "\n",
    "data.loc[:, \"culture\"] = [get_cult(x) for x in data.culture.fillna(\"\")]\n",
    "\n",
    "#-------- culture induction -------\n",
    "\n",
    "\n",
    "datacopy = data.copy()\n",
    "\n",
    "\n",
    "data.drop([\"name\", \"alive\", \"pred\", \"plod\", \"isAlive\", \"dateOfBirth\", \"DateoFdeath\"], 1, inplace = True)\n",
    "\n",
    "\n",
    "data.loc[:, \"title\"] = pd.factorize(data.title)[0]\n",
    "data.loc[:, \"culture\"] = pd.factorize(data.culture)[0]\n",
    "data.loc[:, \"mother\"] = pd.factorize(data.mother)[0]\n",
    "data.loc[:, \"father\"] = pd.factorize(data.father)[0]\n",
    "data.loc[:, \"heir\"] = pd.factorize(data.heir)[0]\n",
    "data.loc[:, \"house\"] = pd.factorize(data.house)[0]\n",
    "data.loc[:, \"spouse\"] = pd.factorize(data.spouse)[0]\n",
    "\n",
    "data.fillna(value = -1, inplace = True)\n",
    "''' $$ The code below usually works as a sample equilibrium. However in this case,\n",
    " this equilibirium actually decrease our accuracy, all because the original \n",
    "prediction data was released without any sample balancing. $$\n",
    "\n",
    "data = data[data.actual == 0].sample(350, random_state = 62).append(data[data.actual == 1].sample(350, random_state = 62)).copy(deep = True).astype(np.float64)\n",
    "\n",
    "'''\n",
    "Y = data.actual.values\n",
    "\n",
    "Odata = data.copy(deep=True)\n",
    "\n",
    "data.drop([\"actual\"], 1, inplace = True)\n",
    "\n",
    "# sns.heatmap(data.corr(),annot=True,cmap='RdYlGn',linewidths=0.2) #data.corr()-->correlation matrix\n",
    "# fig=plt.gcf()\n",
    "# fig.set_size_inches(30,20)\n",
    "# plt.show()\n",
    "\n",
    "\n",
    "from sklearn.linear_model import LogisticRegression\n",
    "\n",
    "LR = LogisticRegression()\n",
    "\n",
    "LR.fit(data, Y)\n",
    "\n",
    "# plt.scatter(data.loc[:, \"house\"],Y)\n",
    "# plt.xlabel(\"Data\")\n",
    "# plt.ylabel(\"Prediction\")\n",
    "\n",
    "for index,row in datacopy.iterrows():\n",
    "    if(Y[index] == 1):\n",
    "        survived = (datacopy.loc[:, \"name\"])\n",
    "# print(data.columns)\n",
    "print(survived)\n",
    "survived.to_csv(\"../survived.csv\")\n",
    "print('LogisticRegression Accuracy: ',LR.score(data, Y))\n"
   ]
  },
  {
   "cell_type": "code",
   "execution_count": null,
   "metadata": {
    "_uuid": "f53a3cdb091724ad5f6875a50a2e67ebd2e09546"
   },
   "outputs": [],
   "source": []
  },
  {
   "cell_type": "code",
   "execution_count": null,
   "metadata": {
    "_uuid": "6e4d9af5fa82a425b604751f40e50ecefd5b5dc6"
   },
   "outputs": [],
   "source": []
  }
 ],
 "metadata": {
  "kernelspec": {
   "display_name": "Python 3",
   "language": "python",
   "name": "python3"
  },
  "language_info": {
   "codemirror_mode": {
    "name": "ipython",
    "version": 3
   },
   "file_extension": ".py",
   "mimetype": "text/x-python",
   "name": "python",
   "nbconvert_exporter": "python",
   "pygments_lexer": "ipython3",
   "version": "3.6.5"
  }
 },
 "nbformat": 4,
 "nbformat_minor": 1
}
